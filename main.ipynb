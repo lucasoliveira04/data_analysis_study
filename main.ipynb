{
 "cells": [
  {
   "cell_type": "markdown",
   "metadata": {},
   "source": [
    "## Bibliotecas"
   ]
  },
  {
   "cell_type": "code",
   "execution_count": 16,
   "metadata": {},
   "outputs": [],
   "source": [
    "import pandas as pd"
   ]
  },
  {
   "cell_type": "markdown",
   "metadata": {},
   "source": [
    "## Funções"
   ]
  },
  {
   "cell_type": "code",
   "execution_count": 17,
   "metadata": {},
   "outputs": [],
   "source": [
    "def setAddress(address):\n",
    "    df = pd.read_excel(address)\n",
    "    return df"
   ]
  },
  {
   "cell_type": "markdown",
   "metadata": {},
   "source": [
    "## Configurando DataFrame"
   ]
  },
  {
   "cell_type": "code",
   "execution_count": null,
   "metadata": {},
   "outputs": [
    {
     "data": {
      "text/html": [
       "<div>\n",
       "<style scoped>\n",
       "    .dataframe tbody tr th:only-of-type {\n",
       "        vertical-align: middle;\n",
       "    }\n",
       "\n",
       "    .dataframe tbody tr th {\n",
       "        vertical-align: top;\n",
       "    }\n",
       "\n",
       "    .dataframe thead th {\n",
       "        text-align: right;\n",
       "    }\n",
       "</style>\n",
       "<table border=\"1\" class=\"dataframe\">\n",
       "  <thead>\n",
       "    <tr style=\"text-align: right;\">\n",
       "      <th></th>\n",
       "      <th>ID</th>\n",
       "      <th>Nome</th>\n",
       "      <th>Idade</th>\n",
       "      <th>Cidade</th>\n",
       "      <th>Salário</th>\n",
       "      <th>Data de Admissão</th>\n",
       "    </tr>\n",
       "  </thead>\n",
       "  <tbody>\n",
       "    <tr>\n",
       "      <th>0</th>\n",
       "      <td>1</td>\n",
       "      <td>Carlos</td>\n",
       "      <td>42</td>\n",
       "      <td>Curitiba</td>\n",
       "      <td>3236.86</td>\n",
       "      <td>2010-01-01 00:00:00.000</td>\n",
       "    </tr>\n",
       "    <tr>\n",
       "      <th>1</th>\n",
       "      <td>2</td>\n",
       "      <td>Bruno</td>\n",
       "      <td>30</td>\n",
       "      <td>Rio de Janeiro</td>\n",
       "      <td>5668.74</td>\n",
       "      <td>2010-01-06 02:48:38.919</td>\n",
       "    </tr>\n",
       "    <tr>\n",
       "      <th>2</th>\n",
       "      <td>3</td>\n",
       "      <td>Carlos</td>\n",
       "      <td>40</td>\n",
       "      <td>Belo Horizonte</td>\n",
       "      <td>4410.26</td>\n",
       "      <td>2010-01-11 05:37:17.838</td>\n",
       "    </tr>\n",
       "    <tr>\n",
       "      <th>3</th>\n",
       "      <td>4</td>\n",
       "      <td>Bruno</td>\n",
       "      <td>33</td>\n",
       "      <td>Curitiba</td>\n",
       "      <td>3634.94</td>\n",
       "      <td>2010-01-16 08:25:56.757</td>\n",
       "    </tr>\n",
       "    <tr>\n",
       "      <th>4</th>\n",
       "      <td>5</td>\n",
       "      <td>Eduardo</td>\n",
       "      <td>18</td>\n",
       "      <td>Curitiba</td>\n",
       "      <td>6248.72</td>\n",
       "      <td>2010-01-21 11:14:35.676</td>\n",
       "    </tr>\n",
       "    <tr>\n",
       "      <th>...</th>\n",
       "      <td>...</td>\n",
       "      <td>...</td>\n",
       "      <td>...</td>\n",
       "      <td>...</td>\n",
       "      <td>...</td>\n",
       "      <td>...</td>\n",
       "    </tr>\n",
       "    <tr>\n",
       "      <th>995</th>\n",
       "      <td>996</td>\n",
       "      <td>Bruno</td>\n",
       "      <td>41</td>\n",
       "      <td>Salvador</td>\n",
       "      <td>3885.92</td>\n",
       "      <td>2023-12-10 12:45:24.324</td>\n",
       "    </tr>\n",
       "    <tr>\n",
       "      <th>996</th>\n",
       "      <td>997</td>\n",
       "      <td>Carlos</td>\n",
       "      <td>31</td>\n",
       "      <td>Rio de Janeiro</td>\n",
       "      <td>2005.26</td>\n",
       "      <td>2023-12-15 15:34:03.243</td>\n",
       "    </tr>\n",
       "    <tr>\n",
       "      <th>997</th>\n",
       "      <td>998</td>\n",
       "      <td>Eduardo</td>\n",
       "      <td>22</td>\n",
       "      <td>Curitiba</td>\n",
       "      <td>2027.14</td>\n",
       "      <td>2023-12-20 18:22:42.162</td>\n",
       "    </tr>\n",
       "    <tr>\n",
       "      <th>998</th>\n",
       "      <td>999</td>\n",
       "      <td>Diana</td>\n",
       "      <td>55</td>\n",
       "      <td>São Paulo</td>\n",
       "      <td>5061.65</td>\n",
       "      <td>2023-12-25 21:11:21.081</td>\n",
       "    </tr>\n",
       "    <tr>\n",
       "      <th>999</th>\n",
       "      <td>1000</td>\n",
       "      <td>Carlos</td>\n",
       "      <td>23</td>\n",
       "      <td>Belo Horizonte</td>\n",
       "      <td>2249.45</td>\n",
       "      <td>2023-12-31 00:00:00.000</td>\n",
       "    </tr>\n",
       "  </tbody>\n",
       "</table>\n",
       "<p>1000 rows × 6 columns</p>\n",
       "</div>"
      ],
      "text/plain": [
       "       ID     Nome  Idade          Cidade  Salário        Data de Admissão\n",
       "0       1   Carlos     42        Curitiba  3236.86 2010-01-01 00:00:00.000\n",
       "1       2    Bruno     30  Rio de Janeiro  5668.74 2010-01-06 02:48:38.919\n",
       "2       3   Carlos     40  Belo Horizonte  4410.26 2010-01-11 05:37:17.838\n",
       "3       4    Bruno     33        Curitiba  3634.94 2010-01-16 08:25:56.757\n",
       "4       5  Eduardo     18        Curitiba  6248.72 2010-01-21 11:14:35.676\n",
       "..    ...      ...    ...             ...      ...                     ...\n",
       "995   996    Bruno     41        Salvador  3885.92 2023-12-10 12:45:24.324\n",
       "996   997   Carlos     31  Rio de Janeiro  2005.26 2023-12-15 15:34:03.243\n",
       "997   998  Eduardo     22        Curitiba  2027.14 2023-12-20 18:22:42.162\n",
       "998   999    Diana     55       São Paulo  5061.65 2023-12-25 21:11:21.081\n",
       "999  1000   Carlos     23  Belo Horizonte  2249.45 2023-12-31 00:00:00.000\n",
       "\n",
       "[1000 rows x 6 columns]"
      ]
     },
     "metadata": {},
     "output_type": "display_data"
    }
   ],
   "source": [
    "df = setAddress('dados_para_estudo.xlsx')"
   ]
  }
 ],
 "metadata": {
  "kernelspec": {
   "display_name": "base",
   "language": "python",
   "name": "python3"
  },
  "language_info": {
   "codemirror_mode": {
    "name": "ipython",
    "version": 3
   },
   "file_extension": ".py",
   "mimetype": "text/x-python",
   "name": "python",
   "nbconvert_exporter": "python",
   "pygments_lexer": "ipython3",
   "version": "3.12.7"
  }
 },
 "nbformat": 4,
 "nbformat_minor": 2
}
