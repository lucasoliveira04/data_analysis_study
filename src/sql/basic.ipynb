{
 "cells": [
  {
   "cell_type": "code",
   "id": "initial_id",
   "metadata": {
    "collapsed": true,
    "ExecuteTime": {
     "end_time": "2025-01-17T12:44:35.786353Z",
     "start_time": "2025-01-17T12:44:35.730173Z"
    }
   },
   "source": [
    "import sqlalchemy as sql\n",
    "import random\n",
    "import pandas as pd\n",
    "\n",
    "data = pd.read_excel('./data.xlsx')\n",
    "backup = data.copy()\n"
   ],
   "outputs": [],
   "execution_count": 111
  },
  {
   "metadata": {},
   "cell_type": "code",
   "source": [
    "# Lista de cidades do RJ\n",
    "cidades_rj = [\n",
    "    \"Rio de Janeiro\", \"Niterói\", \"Petrópolis\", \"Nova Friburgo\", \"Teresópolis\",\n",
    "    \"Volta Redonda\", \"Resende\", \"Barra Mansa\", \"Macaé\", \"Campos dos Goytacazes\",\n",
    "    \"Angra dos Reis\", \"Cabo Frio\", \"Araruama\", \"São Gonçalo\", \"Itaboraí\",\n",
    "    \"Magé\", \"Queimados\", \"Belford Roxo\", \"Duque de Caxias\", \"Nova Iguaçu\"\n",
    "]\n",
    "\n",
    "# Lista de cidades de SP\n",
    "cidades_sp = [\n",
    "    \"São Paulo\", \"Campinas\", \"Santos\", \"São Bernardo do Campo\", \"São José dos Campos\",\n",
    "    \"Ribeirão Preto\", \"Sorocaba\", \"Santo André\", \"Osasco\", \"Jundiaí\",\n",
    "    \"Bauru\", \"Piracicaba\", \"Franca\", \"Guarulhos\", \"Diadema\",\n",
    "    \"Barueri\", \"Taboão da Serra\", \"Mogi das Cruzes\", \"Taubaté\", \"Suzano\"\n",
    "]\n",
    "\n",
    "todas_cidades = cidades_rj + cidades_sp\n",
    "\n",
    "estados = ['São Paulo', 'Rio de Janeiro']\n",
    "\n",
    "# inserindo todas as cidades de SP e RJ na coluna 'Cidade'\n",
    "data['Cidade'] = [random.choice(todas_cidades) for _ in range(data.shape[0])]\n",
    "data['Estado'] = [random.choice(estados) for _ in range(data.shape[0])]\n",
    "print(data)"
   ],
   "id": "e14e68b3cf7d2129",
   "outputs": [],
   "execution_count": null
  },
  {
   "metadata": {},
   "cell_type": "code",
   "source": "data['Sigla do estado'] = data['Estado'].apply(lambda x: 'SP' if x == 'São Paulo' else 'RJ')",
   "id": "2de9e58e4958d261",
   "outputs": [],
   "execution_count": null
  },
  {
   "metadata": {},
   "cell_type": "code",
   "source": "data['Idade'] = [random.randint(18, 60) for _ in range(data.shape[0])]",
   "id": "178e7756b2de93dc",
   "outputs": [],
   "execution_count": null
  },
  {
   "metadata": {},
   "cell_type": "code",
   "source": [
    "names = [\n",
    "    \"Ana\", \"João\", \"Maria\", \"Pedro\", \"Lucas\",\n",
    "    \"Beatriz\", \"Carlos\", \"Júlia\", \"Rafael\", \"Camila\",\n",
    "    \"Gabriel\", \"Fernanda\", \"Matheus\", \"Larissa\", \"Bruno\",\n",
    "    \"Mariana\", \"Henrique\", \"Luana\", \"Felipe\", \"Letícia\"\n",
    "]\n",
    "\n",
    "data['Name'] = [random.choice(names) for _ in range(data.shape[0])]"
   ],
   "id": "d9f4ae92914dab9e",
   "outputs": [],
   "execution_count": null
  },
  {
   "metadata": {},
   "cell_type": "code",
   "source": [
    "# conectando em um banco de dados\n",
    "engine = sql.create_engine('sqlite:///:memory:')\n",
    "conn = engine.connect()\n",
    "data.drop(columns=['ID.1', 'ID.2', 'ID.3', 'ID'], inplace=True)\n",
    "data.to_sql('clientes', conn, index=False, if_exists='replace')"
   ],
   "id": "9fd82f221c2e312f",
   "outputs": [],
   "execution_count": null
  },
  {
   "metadata": {},
   "cell_type": "code",
   "source": [
    "# função para consultas\n",
    "def query(query, connection):\n",
    "    query = pd.read_sql(query, connection)\n",
    "    print(query)\n",
    "    return query"
   ],
   "id": "6e0b55cdc6b97c0",
   "outputs": [],
   "execution_count": null
  },
  {
   "metadata": {},
   "cell_type": "code",
   "source": [
    "# Consultando quantidade de nomes repetidos\n",
    "q = '''\n",
    "    select name, count(name) as nomes_repetidos\n",
    "    from clientes\n",
    "    group by name\n",
    "    having count(name) > 1;\n",
    "'''\n",
    "query(q, engine)"
   ],
   "id": "a3f78acc933b83f4",
   "outputs": [],
   "execution_count": null
  },
  {
   "metadata": {
    "ExecuteTime": {
     "end_time": "2025-01-17T12:44:48.271896Z",
     "start_time": "2025-01-17T12:44:48.261697Z"
    }
   },
   "cell_type": "code",
   "source": [
    "# Criando coluna 'tipo_cliente' atraves dos valores que ele tem no Saldo na conta\n",
    "q = '''\n",
    "    select\n",
    "        c.\"name\",\n",
    "        c.\"Saldo na conta\",\n",
    "        c.\"Estado\",\n",
    "        case\n",
    "            when c.\"Saldo na conta\" > 100000 then 'Premium'\n",
    "            when c.\"Saldo na conta\" between 50000 and 100000 then 'Regular'\n",
    "            else 'Basico'\n",
    "        end as \"tipo_cliente\"\n",
    "    from clientes c\n",
    "    where\n",
    "        c.\"Estado\" = 'São Paulo'\n",
    "        and c.\"name\" like 'L%';\n",
    "\n",
    "'''\n",
    "query(q, engine)\n",
    "\n",
    "new_data = pd.read_sql(q, engine)\n",
    "data['tipo_cliente'] = new_data['tipo_cliente']"
   ],
   "id": "5a4162219cd188e7",
   "outputs": [
    {
     "name": "stdout",
     "output_type": "stream",
     "text": [
      "       Name  Saldo na conta     Estado tipo_cliente\n",
      "0   Letícia           57734  São Paulo      Regular\n",
      "1     Luana           14467  São Paulo       Basico\n",
      "2   Letícia           31513  São Paulo       Basico\n",
      "3   Letícia            1703  São Paulo       Basico\n",
      "4   Letícia           66152  São Paulo      Regular\n",
      "5     Lucas           67592  São Paulo      Regular\n",
      "6     Lucas           77604  São Paulo      Regular\n",
      "7     Luana           22520  São Paulo       Basico\n",
      "8     Luana           32678  São Paulo       Basico\n",
      "9     Luana            1235  São Paulo       Basico\n",
      "10    Lucas           96885  São Paulo      Regular\n",
      "11    Luana           93737  São Paulo      Regular\n",
      "12  Letícia           52487  São Paulo      Regular\n",
      "13  Letícia           44165  São Paulo       Basico\n",
      "14  Larissa           76116  São Paulo      Regular\n",
      "15    Lucas           17132  São Paulo       Basico\n",
      "16  Larissa           97215  São Paulo      Regular\n",
      "17    Luana           15959  São Paulo       Basico\n",
      "18  Letícia           68478  São Paulo      Regular\n",
      "19    Lucas           42117  São Paulo       Basico\n",
      "20    Luana           15005  São Paulo       Basico\n",
      "21  Letícia           56059  São Paulo      Regular\n",
      "22  Larissa           23075  São Paulo       Basico\n",
      "23  Larissa           85708  São Paulo      Regular\n",
      "24    Luana           68982  São Paulo      Regular\n"
     ]
    }
   ],
   "execution_count": 112
  },
  {
   "metadata": {
    "ExecuteTime": {
     "end_time": "2025-01-17T12:44:19.717659Z",
     "start_time": "2025-01-17T12:44:19.651676Z"
    }
   },
   "cell_type": "code",
   "source": [
    "\n",
    "data.to_excel('./data.xlsx', index_label=\"ID\")"
   ],
   "id": "b2f342036760787f",
   "outputs": [],
   "execution_count": 110
  }
 ],
 "metadata": {
  "kernelspec": {
   "display_name": "Python 3",
   "language": "python",
   "name": "python3"
  },
  "language_info": {
   "codemirror_mode": {
    "name": "ipython",
    "version": 2
   },
   "file_extension": ".py",
   "mimetype": "text/x-python",
   "name": "python",
   "nbconvert_exporter": "python",
   "pygments_lexer": "ipython2",
   "version": "2.7.6"
  }
 },
 "nbformat": 4,
 "nbformat_minor": 5
}
