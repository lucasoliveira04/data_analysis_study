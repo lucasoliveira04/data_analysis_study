{
 "cells": [
  {
   "cell_type": "code",
   "id": "initial_id",
   "metadata": {
    "collapsed": true
   },
   "source": [
    "import sqlalchemy as sql\n",
    "import random\n",
    "import pandas as pd\n",
    "from bokeh.layouts import column\n",
    "from xarray.util.generate_ops import inplace\n",
    "\n",
    "data = pd.read_excel('./data.xlsx')\n",
    "backup = data.copy()\n",
    "data = backup.copy()"
   ],
   "outputs": [],
   "execution_count": null
  },
  {
   "metadata": {},
   "cell_type": "code",
   "source": [
    "# Lista de cidades do RJ\n",
    "cidades_rj = [\n",
    "    \"Rio de Janeiro\", \"Niterói\", \"Petrópolis\", \"Nova Friburgo\", \"Teresópolis\",\n",
    "    \"Volta Redonda\", \"Resende\", \"Barra Mansa\", \"Macaé\", \"Campos dos Goytacazes\",\n",
    "    \"Angra dos Reis\", \"Cabo Frio\", \"Araruama\", \"São Gonçalo\", \"Itaboraí\",\n",
    "    \"Magé\", \"Queimados\", \"Belford Roxo\", \"Duque de Caxias\", \"Nova Iguaçu\"\n",
    "]\n",
    "\n",
    "# Lista de cidades de SP\n",
    "cidades_sp = [\n",
    "    \"São Paulo\", \"Campinas\", \"Santos\", \"São Bernardo do Campo\", \"São José dos Campos\",\n",
    "    \"Ribeirão Preto\", \"Sorocaba\", \"Santo André\", \"Osasco\", \"Jundiaí\",\n",
    "    \"Bauru\", \"Piracicaba\", \"Franca\", \"Guarulhos\", \"Diadema\",\n",
    "    \"Barueri\", \"Taboão da Serra\", \"Mogi das Cruzes\", \"Taubaté\", \"Suzano\"\n",
    "]\n",
    "\n",
    "todas_cidades = cidades_rj + cidades_sp\n",
    "\n",
    "estados = ['São Paulo', 'Rio de Janeiro']\n",
    "\n",
    "# inserindo todas as cidades de SP e RJ na coluna 'Cidade'\n",
    "data['Cidade'] = [random.choice(todas_cidades) for _ in range(data.shape[0])]\n",
    "data['Estado'] = [random.choice(estados) for _ in range(data.shape[0])]\n",
    "print(data)"
   ],
   "id": "e14e68b3cf7d2129",
   "outputs": [],
   "execution_count": null
  },
  {
   "metadata": {},
   "cell_type": "code",
   "source": "data['Sigla do estado'] = data['Estado'].apply(lambda x: 'SP' if x == 'São Paulo' else 'RJ')",
   "id": "2de9e58e4958d261",
   "outputs": [],
   "execution_count": null
  },
  {
   "metadata": {},
   "cell_type": "code",
   "source": "data['Idade'] = [random.randint(18, 60) for _ in range(data.shape[0])]",
   "id": "178e7756b2de93dc",
   "outputs": [],
   "execution_count": null
  },
  {
   "metadata": {},
   "cell_type": "code",
   "source": [
    "names = [\n",
    "    \"Ana\", \"João\", \"Maria\", \"Pedro\", \"Lucas\",\n",
    "    \"Beatriz\", \"Carlos\", \"Júlia\", \"Rafael\", \"Camila\",\n",
    "    \"Gabriel\", \"Fernanda\", \"Matheus\", \"Larissa\", \"Bruno\",\n",
    "    \"Mariana\", \"Henrique\", \"Luana\", \"Felipe\", \"Letícia\"\n",
    "]\n",
    "\n",
    "data['Name'] = [random.choice(names) for _ in range(data.shape[0])]"
   ],
   "id": "d9f4ae92914dab9e",
   "outputs": [],
   "execution_count": null
  },
  {
   "metadata": {
    "ExecuteTime": {
     "end_time": "2025-01-17T13:46:44.637318Z",
     "start_time": "2025-01-17T13:46:44.624460Z"
    }
   },
   "cell_type": "code",
   "source": [
    "# conectando em um banco de dados\n",
    "engine = sql.create_engine('sqlite:///:memory:')\n",
    "conn = engine.connect()\n",
    "data.drop(columns=['Index'], inplace=True)\n",
    "data.to_sql('clientes', conn, index=False, if_exists='replace')"
   ],
   "id": "9fd82f221c2e312f",
   "outputs": [
    {
     "data": {
      "text/plain": [
       "242"
      ]
     },
     "execution_count": 181,
     "metadata": {},
     "output_type": "execute_result"
    }
   ],
   "execution_count": 181
  },
  {
   "metadata": {},
   "cell_type": "code",
   "source": [
    "# função para consultas\n",
    "def query(query, connection):\n",
    "    query = pd.read_sql(query, connection)\n",
    "    print(query)\n",
    "    return query"
   ],
   "id": "6e0b55cdc6b97c0",
   "outputs": [],
   "execution_count": null
  },
  {
   "metadata": {},
   "cell_type": "code",
   "source": [
    "# Consultando quantidade de nomes repetidos\n",
    "q = '''\n",
    "    select name, count(name) as nomes_repetidos\n",
    "    from clientes\n",
    "    group by name\n",
    "    having count(name) > 1;\n",
    "'''\n",
    "query(q, engine)"
   ],
   "id": "a3f78acc933b83f4",
   "outputs": [],
   "execution_count": null
  },
  {
   "metadata": {},
   "cell_type": "code",
   "source": [
    "q1 = '''\n",
    "    select\n",
    "        c.\"name\",\n",
    "        max(c.\"Saldo na conta\") as Saldo_Maximo\n",
    "    from clientes c;\n",
    "'''\n",
    "\n",
    "q_final = '''\n",
    "    select\n",
    "        c.\"name\",\n",
    "        c.\"Saldo na conta\",\n",
    "        c.\"Estado\",\n",
    "        case\n",
    "            when c.\"Saldo na conta\" > 70000 then 'Premium'\n",
    "            when c.\"Saldo na conta\" between 10000 and 70000 then 'Gold'\n",
    "            else 'Regular'\n",
    "        end as \"nivel_cliente\"\n",
    "    from clientes c;\n",
    "'''\n",
    "\n",
    "new_data = pd.read_sql(q_final, engine)\n",
    "data['nivel_cliente'] = new_data['nivel_cliente']\n",
    "\n",
    "query(q_final, engine)"
   ],
   "id": "15af76b1a5c660fe",
   "outputs": [],
   "execution_count": null
  },
  {
   "metadata": {
    "ExecuteTime": {
     "end_time": "2025-01-17T13:46:47.472535Z",
     "start_time": "2025-01-17T13:46:47.413966Z"
    }
   },
   "cell_type": "code",
   "source": "data.to_excel('./data.xlsx', index_label='Index')",
   "id": "b2f342036760787f",
   "outputs": [],
   "execution_count": 182
  }
 ],
 "metadata": {
  "kernelspec": {
   "display_name": "Python 3",
   "language": "python",
   "name": "python3"
  },
  "language_info": {
   "codemirror_mode": {
    "name": "ipython",
    "version": 2
   },
   "file_extension": ".py",
   "mimetype": "text/x-python",
   "name": "python",
   "nbconvert_exporter": "python",
   "pygments_lexer": "ipython2",
   "version": "2.7.6"
  }
 },
 "nbformat": 4,
 "nbformat_minor": 5
}
