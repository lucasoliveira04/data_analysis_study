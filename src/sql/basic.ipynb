{
 "cells": [
  {
   "cell_type": "code",
   "id": "initial_id",
   "metadata": {
    "collapsed": true
   },
   "source": [
    "import sqlalchemy as sql\n",
    "import random\n",
    "import pandas as pd\n",
    "\n",
    "data = pd.read_excel('./data.xlsx')"
   ],
   "outputs": [],
   "execution_count": null
  },
  {
   "metadata": {},
   "cell_type": "code",
   "source": [
    "# Lista de cidades do RJ\n",
    "cidades_rj = [\n",
    "    \"Rio de Janeiro\", \"Niterói\", \"Petrópolis\", \"Nova Friburgo\", \"Teresópolis\",\n",
    "    \"Volta Redonda\", \"Resende\", \"Barra Mansa\", \"Macaé\", \"Campos dos Goytacazes\",\n",
    "    \"Angra dos Reis\", \"Cabo Frio\", \"Araruama\", \"São Gonçalo\", \"Itaboraí\",\n",
    "    \"Magé\", \"Queimados\", \"Belford Roxo\", \"Duque de Caxias\", \"Nova Iguaçu\"\n",
    "]\n",
    "\n",
    "# Lista de cidades de SP\n",
    "cidades_sp = [\n",
    "    \"São Paulo\", \"Campinas\", \"Santos\", \"São Bernardo do Campo\", \"São José dos Campos\",\n",
    "    \"Ribeirão Preto\", \"Sorocaba\", \"Santo André\", \"Osasco\", \"Jundiaí\",\n",
    "    \"Bauru\", \"Piracicaba\", \"Franca\", \"Guarulhos\", \"Diadema\",\n",
    "    \"Barueri\", \"Taboão da Serra\", \"Mogi das Cruzes\", \"Taubaté\", \"Suzano\"\n",
    "]\n",
    "\n",
    "todas_cidades = cidades_rj + cidades_sp\n",
    "\n",
    "estados = ['São Paulo', 'Rio de Janeiro']\n",
    "\n",
    "# inserindo todas as cidades de SP e RJ na coluna 'Cidade'\n",
    "data['Cidade'] = [random.choice(todas_cidades) for _ in range(data.shape[0])]\n",
    "data['Estado'] = [random.choice(estados) for _ in range(data.shape[0])]\n",
    "print(data)"
   ],
   "id": "e14e68b3cf7d2129",
   "outputs": [],
   "execution_count": null
  },
  {
   "metadata": {},
   "cell_type": "code",
   "source": "data['Sigla do estado'] = data['Estado'].apply(lambda x: 'SP' if x == 'São Paulo' else 'RJ')",
   "id": "2de9e58e4958d261",
   "outputs": [],
   "execution_count": null
  },
  {
   "metadata": {},
   "cell_type": "code",
   "source": "data['Idade'] = [random.randint(18, 60) for _ in range(data.shape[0])]",
   "id": "178e7756b2de93dc",
   "outputs": [],
   "execution_count": null
  },
  {
   "metadata": {},
   "cell_type": "code",
   "source": [
    "names = [\n",
    "    \"Ana\", \"João\", \"Maria\", \"Pedro\", \"Lucas\",\n",
    "    \"Beatriz\", \"Carlos\", \"Júlia\", \"Rafael\", \"Camila\",\n",
    "    \"Gabriel\", \"Fernanda\", \"Matheus\", \"Larissa\", \"Bruno\",\n",
    "    \"Mariana\", \"Henrique\", \"Luana\", \"Felipe\", \"Letícia\"\n",
    "]\n",
    "\n",
    "data['Name'] = [random.choice(names) for _ in range(data.shape[0])]\n"
   ],
   "id": "d9f4ae92914dab9e",
   "outputs": [],
   "execution_count": null
  },
  {
   "metadata": {
    "ExecuteTime": {
     "end_time": "2025-01-17T12:02:52.599774Z",
     "start_time": "2025-01-17T12:02:52.578816Z"
    }
   },
   "cell_type": "code",
   "source": [
    "# conectando em um banco de dados\n",
    "engine = sql.create_engine('sqlite:///:memory:')\n",
    "conn = engine.connect()\n",
    "data.drop(columns=['ID.1', 'ID.2', 'ID.3'], inplace=True)\n",
    "data.to_sql('clientes', conn, index=False, if_exists='replace')"
   ],
   "id": "9fd82f221c2e312f",
   "outputs": [
    {
     "data": {
      "text/plain": [
       "242"
      ]
     },
     "execution_count": 35,
     "metadata": {},
     "output_type": "execute_result"
    }
   ],
   "execution_count": 35
  },
  {
   "metadata": {},
   "cell_type": "code",
   "outputs": [],
   "execution_count": null,
   "source": [
    "# função para consultas\n",
    "def query(query, connection):\n",
    "    query = pd.read_sql(query, connection)\n",
    "    print(query)\n",
    "    return query"
   ],
   "id": "6e0b55cdc6b97c0"
  },
  {
   "metadata": {
    "ExecuteTime": {
     "end_time": "2025-01-17T12:02:55.598748Z",
     "start_time": "2025-01-17T12:02:55.581750Z"
    }
   },
   "cell_type": "code",
   "source": [
    "q = '''\n",
    "    select * from clientes;\n",
    "'''\n",
    "query(q, engine)"
   ],
   "id": "a3f78acc933b83f4",
   "outputs": [
    {
     "data": {
      "text/plain": [
       "      ID      Name          Estado Sigla do estado               Cidade  \\\n",
       "0      0   Letícia       São Paulo              SP             Campinas   \n",
       "1      1  Henrique       São Paulo              SP          Nova Iguaçu   \n",
       "2      2     Luana       São Paulo              SP       Angra dos Reis   \n",
       "3      3   Beatriz       São Paulo              SP              Taubaté   \n",
       "4      4    Felipe       São Paulo              SP               Franca   \n",
       "..   ...       ...             ...             ...                  ...   \n",
       "237  237       Ana  Rio de Janeiro              RJ               Franca   \n",
       "238  238     Luana       São Paulo              SP             Itaboraí   \n",
       "239  239   Larissa  Rio de Janeiro              RJ                Bauru   \n",
       "240  240     Júlia       São Paulo              SP      Mogi das Cruzes   \n",
       "241  241   Mariana       São Paulo              SP  São José dos Campos   \n",
       "\n",
       "     Saldo na conta  Idade  Total compras  \n",
       "0             57734     20         1892.0  \n",
       "1             53809     31          737.0  \n",
       "2             14467     60          404.0  \n",
       "3             49853     40         1372.0  \n",
       "4             18735     54         1052.0  \n",
       "..              ...    ...            ...  \n",
       "237           28495     30         1630.0  \n",
       "238           68982     21         1729.0  \n",
       "239           57519     39         1265.0  \n",
       "240            7824     24         1175.0  \n",
       "241           83156     57          415.0  \n",
       "\n",
       "[242 rows x 8 columns]"
      ],
      "text/html": [
       "<div>\n",
       "<style scoped>\n",
       "    .dataframe tbody tr th:only-of-type {\n",
       "        vertical-align: middle;\n",
       "    }\n",
       "\n",
       "    .dataframe tbody tr th {\n",
       "        vertical-align: top;\n",
       "    }\n",
       "\n",
       "    .dataframe thead th {\n",
       "        text-align: right;\n",
       "    }\n",
       "</style>\n",
       "<table border=\"1\" class=\"dataframe\">\n",
       "  <thead>\n",
       "    <tr style=\"text-align: right;\">\n",
       "      <th></th>\n",
       "      <th>ID</th>\n",
       "      <th>Name</th>\n",
       "      <th>Estado</th>\n",
       "      <th>Sigla do estado</th>\n",
       "      <th>Cidade</th>\n",
       "      <th>Saldo na conta</th>\n",
       "      <th>Idade</th>\n",
       "      <th>Total compras</th>\n",
       "    </tr>\n",
       "  </thead>\n",
       "  <tbody>\n",
       "    <tr>\n",
       "      <th>0</th>\n",
       "      <td>0</td>\n",
       "      <td>Letícia</td>\n",
       "      <td>São Paulo</td>\n",
       "      <td>SP</td>\n",
       "      <td>Campinas</td>\n",
       "      <td>57734</td>\n",
       "      <td>20</td>\n",
       "      <td>1892.0</td>\n",
       "    </tr>\n",
       "    <tr>\n",
       "      <th>1</th>\n",
       "      <td>1</td>\n",
       "      <td>Henrique</td>\n",
       "      <td>São Paulo</td>\n",
       "      <td>SP</td>\n",
       "      <td>Nova Iguaçu</td>\n",
       "      <td>53809</td>\n",
       "      <td>31</td>\n",
       "      <td>737.0</td>\n",
       "    </tr>\n",
       "    <tr>\n",
       "      <th>2</th>\n",
       "      <td>2</td>\n",
       "      <td>Luana</td>\n",
       "      <td>São Paulo</td>\n",
       "      <td>SP</td>\n",
       "      <td>Angra dos Reis</td>\n",
       "      <td>14467</td>\n",
       "      <td>60</td>\n",
       "      <td>404.0</td>\n",
       "    </tr>\n",
       "    <tr>\n",
       "      <th>3</th>\n",
       "      <td>3</td>\n",
       "      <td>Beatriz</td>\n",
       "      <td>São Paulo</td>\n",
       "      <td>SP</td>\n",
       "      <td>Taubaté</td>\n",
       "      <td>49853</td>\n",
       "      <td>40</td>\n",
       "      <td>1372.0</td>\n",
       "    </tr>\n",
       "    <tr>\n",
       "      <th>4</th>\n",
       "      <td>4</td>\n",
       "      <td>Felipe</td>\n",
       "      <td>São Paulo</td>\n",
       "      <td>SP</td>\n",
       "      <td>Franca</td>\n",
       "      <td>18735</td>\n",
       "      <td>54</td>\n",
       "      <td>1052.0</td>\n",
       "    </tr>\n",
       "    <tr>\n",
       "      <th>...</th>\n",
       "      <td>...</td>\n",
       "      <td>...</td>\n",
       "      <td>...</td>\n",
       "      <td>...</td>\n",
       "      <td>...</td>\n",
       "      <td>...</td>\n",
       "      <td>...</td>\n",
       "      <td>...</td>\n",
       "    </tr>\n",
       "    <tr>\n",
       "      <th>237</th>\n",
       "      <td>237</td>\n",
       "      <td>Ana</td>\n",
       "      <td>Rio de Janeiro</td>\n",
       "      <td>RJ</td>\n",
       "      <td>Franca</td>\n",
       "      <td>28495</td>\n",
       "      <td>30</td>\n",
       "      <td>1630.0</td>\n",
       "    </tr>\n",
       "    <tr>\n",
       "      <th>238</th>\n",
       "      <td>238</td>\n",
       "      <td>Luana</td>\n",
       "      <td>São Paulo</td>\n",
       "      <td>SP</td>\n",
       "      <td>Itaboraí</td>\n",
       "      <td>68982</td>\n",
       "      <td>21</td>\n",
       "      <td>1729.0</td>\n",
       "    </tr>\n",
       "    <tr>\n",
       "      <th>239</th>\n",
       "      <td>239</td>\n",
       "      <td>Larissa</td>\n",
       "      <td>Rio de Janeiro</td>\n",
       "      <td>RJ</td>\n",
       "      <td>Bauru</td>\n",
       "      <td>57519</td>\n",
       "      <td>39</td>\n",
       "      <td>1265.0</td>\n",
       "    </tr>\n",
       "    <tr>\n",
       "      <th>240</th>\n",
       "      <td>240</td>\n",
       "      <td>Júlia</td>\n",
       "      <td>São Paulo</td>\n",
       "      <td>SP</td>\n",
       "      <td>Mogi das Cruzes</td>\n",
       "      <td>7824</td>\n",
       "      <td>24</td>\n",
       "      <td>1175.0</td>\n",
       "    </tr>\n",
       "    <tr>\n",
       "      <th>241</th>\n",
       "      <td>241</td>\n",
       "      <td>Mariana</td>\n",
       "      <td>São Paulo</td>\n",
       "      <td>SP</td>\n",
       "      <td>São José dos Campos</td>\n",
       "      <td>83156</td>\n",
       "      <td>57</td>\n",
       "      <td>415.0</td>\n",
       "    </tr>\n",
       "  </tbody>\n",
       "</table>\n",
       "<p>242 rows × 8 columns</p>\n",
       "</div>"
      ]
     },
     "execution_count": 36,
     "metadata": {},
     "output_type": "execute_result"
    }
   ],
   "execution_count": 36
  },
  {
   "metadata": {
    "ExecuteTime": {
     "end_time": "2025-01-17T11:57:57.881308Z",
     "start_time": "2025-01-17T11:57:57.802929Z"
    }
   },
   "cell_type": "code",
   "outputs": [],
   "execution_count": 30,
   "source": "data.to_excel('./data.xlsx', index_label=\"ID\")",
   "id": "b2f342036760787f"
  }
 ],
 "metadata": {
  "kernelspec": {
   "display_name": "Python 3",
   "language": "python",
   "name": "python3"
  },
  "language_info": {
   "codemirror_mode": {
    "name": "ipython",
    "version": 2
   },
   "file_extension": ".py",
   "mimetype": "text/x-python",
   "name": "python",
   "nbconvert_exporter": "python",
   "pygments_lexer": "ipython2",
   "version": "2.7.6"
  }
 },
 "nbformat": 4,
 "nbformat_minor": 5
}
