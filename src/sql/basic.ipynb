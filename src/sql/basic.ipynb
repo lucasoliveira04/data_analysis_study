{
 "cells": [
  {
   "cell_type": "code",
   "id": "initial_id",
   "metadata": {
    "collapsed": true
   },
   "source": [
    "import sqlalchemy as sql\n",
    "import random\n",
    "import pandas as pd\n",
    "\n",
    "data = pd.read_excel('./data.xlsx')"
   ],
   "outputs": [],
   "execution_count": null
  },
  {
   "metadata": {},
   "cell_type": "code",
   "source": [
    "# Lista de cidades do RJ\n",
    "cidades_rj = [\n",
    "    \"Rio de Janeiro\", \"Niterói\", \"Petrópolis\", \"Nova Friburgo\", \"Teresópolis\",\n",
    "    \"Volta Redonda\", \"Resende\", \"Barra Mansa\", \"Macaé\", \"Campos dos Goytacazes\",\n",
    "    \"Angra dos Reis\", \"Cabo Frio\", \"Araruama\", \"São Gonçalo\", \"Itaboraí\",\n",
    "    \"Magé\", \"Queimados\", \"Belford Roxo\", \"Duque de Caxias\", \"Nova Iguaçu\"\n",
    "]\n",
    "\n",
    "# Lista de cidades de SP\n",
    "cidades_sp = [\n",
    "    \"São Paulo\", \"Campinas\", \"Santos\", \"São Bernardo do Campo\", \"São José dos Campos\",\n",
    "    \"Ribeirão Preto\", \"Sorocaba\", \"Santo André\", \"Osasco\", \"Jundiaí\",\n",
    "    \"Bauru\", \"Piracicaba\", \"Franca\", \"Guarulhos\", \"Diadema\",\n",
    "    \"Barueri\", \"Taboão da Serra\", \"Mogi das Cruzes\", \"Taubaté\", \"Suzano\"\n",
    "]\n",
    "\n",
    "todas_cidades = cidades_rj + cidades_sp\n",
    "\n",
    "estados = ['São Paulo', 'Rio de Janeiro']\n",
    "\n",
    "# inserindo todas as cidades de SP e RJ na coluna 'Cidade'\n",
    "data['Cidade'] = [random.choice(todas_cidades) for _ in range(data.shape[0])]\n",
    "data['Estado'] = [random.choice(estados) for _ in range(data.shape[0])]\n",
    "print(data)"
   ],
   "id": "e14e68b3cf7d2129",
   "outputs": [],
   "execution_count": null
  },
  {
   "metadata": {},
   "cell_type": "code",
   "source": "data['Sigla do estado'] = data['Estado'].apply(lambda x: 'SP' if x == 'São Paulo' else 'RJ')",
   "id": "2de9e58e4958d261",
   "outputs": [],
   "execution_count": null
  },
  {
   "metadata": {},
   "cell_type": "code",
   "source": "data['Idade'] = [random.randint(18, 60) for _ in range(data.shape[0])]",
   "id": "178e7756b2de93dc",
   "outputs": [],
   "execution_count": null
  },
  {
   "metadata": {},
   "cell_type": "code",
   "source": [
    "# Caso o usuario tenha mais de 1000 na conta ele tera um valor aleatorio entre 400 a 2000 em compras\n",
    "if (data['Saldo na conta'] > 1000).any():\n",
    "    data['Compras'] = [random.randint(400, 2000) for _ in range(data.shape[0])]\n",
    "else: # caso o valor seja menor que 1000 ele tera um valor de 10 a 1000 em compras\n",
    "    data['Compras'] = [random.choice(10, 1000) for _ in range(data.shape[0])]\n",
    "\n",
    "print(data)"
   ],
   "id": "6bb173ed1c6bff3",
   "outputs": [],
   "execution_count": null
  },
  {
   "metadata": {},
   "cell_type": "code",
   "source": [
    "names = [\n",
    "    \"Ana\", \"João\", \"Maria\", \"Pedro\", \"Lucas\",\n",
    "    \"Beatriz\", \"Carlos\", \"Júlia\", \"Rafael\", \"Camila\",\n",
    "    \"Gabriel\", \"Fernanda\", \"Matheus\", \"Larissa\", \"Bruno\",\n",
    "    \"Mariana\", \"Henrique\", \"Luana\", \"Felipe\", \"Letícia\"\n",
    "]\n",
    "\n",
    "data['Name'] = [random.choice(names) for _ in range(data.shape[0])]\n"
   ],
   "id": "d9f4ae92914dab9e",
   "outputs": [],
   "execution_count": null
  },
  {
   "metadata": {},
   "cell_type": "code",
   "source": [
    "engine = sql.create_engine('sqlite:///:memory:')\n",
    "conn = engine.connect()\n",
    "\n",
    "data.to_sql('clientes', conn, index=False, if_exists='replace')\n",
    "\n",
    "def query(query, connection):\n",
    "    query = pd.read_sql(query, connection)\n",
    "    return query\n",
    "\n",
    "\n",
    "q = '''\n",
    "    select c.\"name\", c.\"compras\"\n",
    "        from clientes c\n",
    "    where c.\"name\" like \"L%\"\n",
    "'''\n",
    "result = query(q, engine)\n",
    "\n",
    "name_result = result['Name'].value_counts()\n",
    "total_compras = result.groupby('Name')['Compras'].sum()\n",
    "data['Total compras'] = data['Compras'].apply(lambda x: f'R$ {x:.2f}')\n",
    "data_cleaned = data.dropna(axis=1)\n",
    "print(data_cleaned)\n"
   ],
   "id": "9fd82f221c2e312f",
   "outputs": [],
   "execution_count": null
  },
  {
   "metadata": {},
   "cell_type": "code",
   "source": "data_cleaned.to_excel('./data.xlsx', index_label=\"ID\")",
   "id": "b2f342036760787f",
   "outputs": [],
   "execution_count": null
  }
 ],
 "metadata": {
  "kernelspec": {
   "display_name": "Python 3",
   "language": "python",
   "name": "python3"
  },
  "language_info": {
   "codemirror_mode": {
    "name": "ipython",
    "version": 2
   },
   "file_extension": ".py",
   "mimetype": "text/x-python",
   "name": "python",
   "nbconvert_exporter": "python",
   "pygments_lexer": "ipython2",
   "version": "2.7.6"
  }
 },
 "nbformat": 4,
 "nbformat_minor": 5
}
