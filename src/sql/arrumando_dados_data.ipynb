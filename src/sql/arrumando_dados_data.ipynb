{
 "cells": [
  {
   "cell_type": "code",
   "id": "initial_id",
   "metadata": {
    "collapsed": true
   },
   "source": [
    "import random\n",
    "\n",
    "import pandas as pd\n",
    "import requests\n",
    "\n",
    "data = pd.read_excel(\"./data.xlsx\")"
   ],
   "outputs": [],
   "execution_count": null
  },
  {
   "metadata": {},
   "cell_type": "code",
   "source": [
    "def backupDataFrame(df : pd.DataFrame, typeDataFrame : str, file_name : str):\n",
    "    methods = {\n",
    "        \"csv\": lambda: df.to_csv(f\"{file_name}.csv\", index=False),\n",
    "        \"excel\": lambda: df.to_excel(f\"{file_name}.xlsx\", index=False),\n",
    "        \"json\": lambda: df.to_json(f\"{file_name}.json\", orient=\"records\"),\n",
    "    }\n",
    "\n",
    "    if typeDataFrame in methods:\n",
    "        methods[typeDataFrame]()\n",
    "    else:\n",
    "        raise ValueError(f\"Tipo de DataFrame '{typeDataFrame}' invalido\")\n",
    "backupDataFrame(data, \"csv\", \"backup_data\")"
   ],
   "id": "dc32a9c37a6af711",
   "outputs": [],
   "execution_count": null
  },
  {
   "metadata": {},
   "cell_type": "markdown",
   "source": "## Removendo Coluna ##",
   "id": "b44ea116e2d204a1"
  },
  {
   "metadata": {},
   "cell_type": "code",
   "source": "print(data.drop(columns=['Cidades'], inplace=True))",
   "id": "36677e83b0ea4f10",
   "outputs": [],
   "execution_count": null
  },
  {
   "metadata": {},
   "cell_type": "markdown",
   "source": "# Consumindo API com todas as cidades de SP e RJ",
   "id": "db1ac9119d66d450"
  },
  {
   "metadata": {},
   "cell_type": "code",
   "source": [
    "def get_city_for_states(uf: str):\n",
    "    url = f\"https://servicodados.ibge.gov.br/api/v1/localidades/estados/{uf}/municipios\"\n",
    "    response = requests.get(url)\n",
    "    response.raise_for_status()\n",
    "    city = response.json()\n",
    "    return [citys[\"nome\"] for citys in city]\n",
    "\n",
    "def choose_city_by_state(estado: str, city_sp: list, city_rj: list):\n",
    "    if estado == 'Rio de Janeiro':\n",
    "        return random.choice(city_rj) + \" RJ\"\n",
    "    elif estado == 'São Paulo':\n",
    "        return random.choice(city_sp) + \" SP\"\n",
    "    return None\n",
    "\n",
    "state_rj = \"RJ\"\n",
    "state_sp = \"SP\"\n",
    "\n",
    "city_rj = get_city_for_states(state_rj)\n",
    "city_sp = get_city_for_states(state_sp)\n",
    "\n",
    "data['Cidade'] = data['Estado'].apply(lambda x: choose_city_by_state(x, city_sp, city_rj))\n",
    "\n",
    "print(data)"
   ],
   "id": "a9c70c742498cb83",
   "outputs": [],
   "execution_count": null
  },
  {
   "metadata": {
    "ExecuteTime": {
     "end_time": "2025-01-19T23:02:33.968634Z",
     "start_time": "2025-01-19T23:02:33.899039Z"
    }
   },
   "cell_type": "code",
   "source": "data.to_excel('data.xlsx', index=False)",
   "id": "d9b525d198c81d6d",
   "outputs": [],
   "execution_count": 65
  }
 ],
 "metadata": {
  "kernelspec": {
   "display_name": "Python 3",
   "language": "python",
   "name": "python3"
  },
  "language_info": {
   "codemirror_mode": {
    "name": "ipython",
    "version": 2
   },
   "file_extension": ".py",
   "mimetype": "text/x-python",
   "name": "python",
   "nbconvert_exporter": "python",
   "pygments_lexer": "ipython2",
   "version": "2.7.6"
  }
 },
 "nbformat": 4,
 "nbformat_minor": 5
}
