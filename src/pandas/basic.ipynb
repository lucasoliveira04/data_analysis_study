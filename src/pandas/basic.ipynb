{
 "cells": [
  {
   "cell_type": "code",
   "id": "initial_id",
   "metadata": {
    "collapsed": true,
    "jupyter": {
     "outputs_hidden": true
    },
    "ExecuteTime": {
     "end_time": "2024-12-28T17:48:04.283950Z",
     "start_time": "2024-12-28T17:48:02.463409Z"
    }
   },
   "source": [
    "### Importando biblioteca\n",
    "import pandas as pd"
   ],
   "outputs": [],
   "execution_count": 3
  },
  {
   "cell_type": "code",
   "id": "6567ecf618e60ed8",
   "metadata": {
    "ExecuteTime": {
     "end_time": "2024-12-28T17:48:05.771752Z",
     "start_time": "2024-12-28T17:48:05.375770Z"
    }
   },
   "source": [
    "### Lendo arquivo\n",
    "\n",
    "clientes_compras = pd.read_excel('data/clientes_compras.xlsx')\n",
    "relatorio_clientes = pd.read_excel('data/relatorio_clientes_transacoes.xlsx')\n",
    "\n",
    "df = clientes_compras"
   ],
   "outputs": [],
   "execution_count": 4
  },
  {
   "cell_type": "code",
   "id": "3dd1ae9c",
   "metadata": {
    "ExecuteTime": {
     "end_time": "2024-12-28T17:50:06.083035Z",
     "start_time": "2024-12-28T17:50:06.054949Z"
    }
   },
   "source": [
    "print(\"Visualização do dataframe:\")\n",
    "print(df) # Visualizar dataframe\n",
    "print(\"\\n\")\n",
    "\n",
    "print(\"Dimensões do dataframe:\")\n",
    "print(df.shape) # Dimensões do dataframe\n",
    "print(\"\\n\")\n",
    "\n",
    "print(\"Informações sobre o dataframe:\")\n",
    "print(df.info()) # Informações sobre o dataframe\n",
    "print(\"\\n\")\n",
    "\n",
    "print(\"Estatísticas descritivas:\")\n",
    "print(df.describe()) # Estatísticas descritivas\n",
    "print(\"\\n\")\n",
    "\n",
    "print(\"Primeiras e últimas linhas do dataframe:\")\n",
    "print(df.head()) # Primeiras linhas do dataframe\n",
    "print(\"\\n\")\n",
    "\n",
    "print(\"Últimas linhas do dataframe:\")\n",
    "print(df.tail()) # Últimas linhas do dataframe\n",
    "print(\"\\n\")\n",
    "\n",
    "print(\"Colunas e índices do dataframe:\")\n",
    "print(df.columns) # Colunas do dataframe\n",
    "print(\"\\n\")\n",
    "\n",
    "print(\"Índices do dataframe:\")\n",
    "print(df.index) # Índices do dataframe"
   ],
   "outputs": [
    {
     "name": "stdout",
     "output_type": "stream",
     "text": [
      "Visualização do dataframe:\n",
      "        Cliente          Cidade  Idade     Genero  Valor_Compra Data_Compra\n",
      "0    Cliente_17  Belo Horizonte     42   Feminino        426.87  2023-01-01\n",
      "1    Cliente_17       São Paulo     21  Masculino        199.47  2023-01-08\n",
      "2    Cliente_20        Curitiba     27   Feminino        190.15  2023-01-15\n",
      "3    Cliente_16    Porto Alegre     20   Feminino        152.33  2023-01-22\n",
      "4    Cliente_13       São Paulo     58   Feminino        323.55  2023-01-29\n",
      "..          ...             ...    ...        ...           ...         ...\n",
      "145  Cliente_17    Porto Alegre     62  Masculino        209.24  2025-10-12\n",
      "146  Cliente_13       São Paulo     59   Feminino        481.38  2025-10-19\n",
      "147   Cliente_1       São Paulo     42   Feminino        132.97  2025-10-26\n",
      "148   Cliente_2        Curitiba     35   Feminino         90.65  2025-11-02\n",
      "149   Cliente_9    Porto Alegre     57   Feminino        396.94  2025-11-09\n",
      "\n",
      "[150 rows x 6 columns]\n",
      "\n",
      "\n",
      "Dimensões do dataframe:\n",
      "(150, 6)\n",
      "\n",
      "\n",
      "Informações sobre o dataframe:\n",
      "<class 'pandas.core.frame.DataFrame'>\n",
      "RangeIndex: 150 entries, 0 to 149\n",
      "Data columns (total 6 columns):\n",
      " #   Column        Non-Null Count  Dtype         \n",
      "---  ------        --------------  -----         \n",
      " 0   Cliente       150 non-null    object        \n",
      " 1   Cidade        150 non-null    object        \n",
      " 2   Idade         150 non-null    int64         \n",
      " 3   Genero        150 non-null    object        \n",
      " 4   Valor_Compra  150 non-null    float64       \n",
      " 5   Data_Compra   150 non-null    datetime64[ns]\n",
      "dtypes: datetime64[ns](1), float64(1), int64(1), object(3)\n",
      "memory usage: 7.2+ KB\n",
      "None\n",
      "\n",
      "\n",
      "Estatísticas descritivas:\n",
      "           Idade  Valor_Compra          Data_Compra\n",
      "count  150.00000    150.000000                  150\n",
      "mean    41.80000    287.969667  2024-06-05 12:00:00\n",
      "min     18.00000     64.780000  2023-01-01 00:00:00\n",
      "25%     28.00000    191.570000  2023-09-18 18:00:00\n",
      "50%     42.00000    287.200000  2024-06-05 12:00:00\n",
      "75%     54.00000    396.932500  2025-02-21 06:00:00\n",
      "max     69.00000    494.930000  2025-11-09 00:00:00\n",
      "std     15.41245    120.038632                  NaN\n",
      "\n",
      "\n",
      "Primeiras e últimas linhas do dataframe:\n",
      "      Cliente          Cidade  Idade     Genero  Valor_Compra Data_Compra\n",
      "0  Cliente_17  Belo Horizonte     42   Feminino        426.87  2023-01-01\n",
      "1  Cliente_17       São Paulo     21  Masculino        199.47  2023-01-08\n",
      "2  Cliente_20        Curitiba     27   Feminino        190.15  2023-01-15\n",
      "3  Cliente_16    Porto Alegre     20   Feminino        152.33  2023-01-22\n",
      "4  Cliente_13       São Paulo     58   Feminino        323.55  2023-01-29\n",
      "\n",
      "\n",
      "Últimas linhas do dataframe:\n",
      "        Cliente        Cidade  Idade     Genero  Valor_Compra Data_Compra\n",
      "145  Cliente_17  Porto Alegre     62  Masculino        209.24  2025-10-12\n",
      "146  Cliente_13     São Paulo     59   Feminino        481.38  2025-10-19\n",
      "147   Cliente_1     São Paulo     42   Feminino        132.97  2025-10-26\n",
      "148   Cliente_2      Curitiba     35   Feminino         90.65  2025-11-02\n",
      "149   Cliente_9  Porto Alegre     57   Feminino        396.94  2025-11-09\n",
      "\n",
      "\n",
      "Colunas e índices do dataframe:\n",
      "Index(['Cliente', 'Cidade', 'Idade', 'Genero', 'Valor_Compra', 'Data_Compra'], dtype='object')\n",
      "\n",
      "\n",
      "Índices do dataframe:\n",
      "RangeIndex(start=0, stop=150, step=1)\n"
     ]
    }
   ],
   "execution_count": 7
  },
  {
   "cell_type": "code",
   "execution_count": null,
   "id": "dfe11bce",
   "metadata": {},
   "outputs": [],
   "source": [
    "print(\"Valores nulos:\")\n",
    "print(df.isna().sum()) # Verificar valores nulos\n",
    "\n",
    "print(\"\\n\")\n",
    "\n",
    "print(\"Valores duplicados:\")\n",
    "print(df.duplicated().sum()) # Verificar valores duplicados\n",
    "\n",
    "print(\"\\n\")\n",
    "\n",
    "print(\"Valores únicos:\")\n",
    "print(df.nunique()) # Verificar valores únicos\n",
    "\n",
    "print(\"\\n\")\n",
    "\n",
    "print(\"Valores únicos por coluna:\")\n",
    "print(df.isnull().sum())"
   ]
  },
  {
   "cell_type": "code",
   "execution_count": null,
   "id": "6f9faa98",
   "metadata": {},
   "outputs": [],
   "source": [
    "print(df[['Cliente', 'Idade']]) # Selecionando colunas"
   ]
  },
  {
   "cell_type": "code",
   "execution_count": 159,
   "id": "2abb08b3",
   "metadata": {},
   "outputs": [],
   "source": [
    "## Filtrar dado do cliente com o maior valor\n",
    "\n",
    "valor_compra_max = df['Valor_Compra'].max() # Valor máximo da coluna\n",
    "cliente_maior_compra = df[df['Valor_Compra'] == valor_compra_max]['Cliente']\n",
    "\n",
    "data = df[df['Valor_Compra'] == valor_compra_max][['Cliente', 'Valor_Compra', 'Idade']] # Dados do cliente com maior compra\n",
    "data['cliente_com_maior_compra'] = cliente_maior_compra # Adicionando coluna com o cliente com maior compra\n",
    "\n",
    "categoria = \"\"\n",
    "\n",
    "if valor_compra_max > 200: # Condição para definir a categoria do cliente\n",
    "    categoria = 'Cliente VIP'\n",
    "else:\n",
    "    categoria = 'Cliente Normal'\n",
    "\n",
    "data['Categoria'] = categoria # Adicionando coluna com a categoria do cliente\n",
    "\n",
    "data.to_excel('data/cliente_maior_compra.xlsx', index=False) # Salvando em um arquivo"
   ]
  },
  {
   "cell_type": "code",
   "execution_count": 160,
   "id": "79a1a7ac",
   "metadata": {},
   "outputs": [],
   "source": [
    "# Filtrar os dados para gêneros que começam com 'F' ou 'M' e somar as vendas\n",
    "feminino = df[df['Genero'].str.startswith('F')]\n",
    "masculino = df[df['Genero'].str.startswith('M')]\n",
    "\n",
    "# Concatenar os dados\n",
    "df_filtrado = pd.concat([feminino, masculino])\n",
    "\n",
    "# Agrupar por 'Genero' e somar as vendas\n",
    "vendas_f_and_m = df_filtrado.groupby('Genero')['Valor_Compra'].sum()\n",
    "\n",
    "# Formatar os valores\n",
    "vendas_f_and_m_formatado = vendas_f_and_m.apply(lambda x: f'R$ {x:,.2f}')\n",
    "\n",
    "# Encontrar o gênero com o maior valor de vendas\n",
    "genero_maior_valor = vendas_f_and_m.idxmax()\n",
    "\n",
    "# Adicionar o gênero com o maior valor de vendas ao dataframe\n",
    "vendas_f_and_m_formatado['genero_maior_valor'] = genero_maior_valor\n",
    "\n",
    "vendas_f_and_m_formatado.to_excel('data/genero_maior_valor.xlsx', index=True) # Salvando em um arquivo"
   ]
  }
 ],
 "metadata": {
  "kernelspec": {
   "display_name": "base",
   "language": "python",
   "name": "python3"
  },
  "language_info": {
   "codemirror_mode": {
    "name": "ipython",
    "version": 3
   },
   "file_extension": ".py",
   "mimetype": "text/x-python",
   "name": "python",
   "nbconvert_exporter": "python",
   "pygments_lexer": "ipython3",
   "version": "3.12.7"
  }
 },
 "nbformat": 4,
 "nbformat_minor": 5
}
