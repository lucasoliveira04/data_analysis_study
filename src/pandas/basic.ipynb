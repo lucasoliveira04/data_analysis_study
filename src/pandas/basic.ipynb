{
 "cells": [
  {
   "cell_type": "code",
   "execution_count": 50,
   "id": "initial_id",
   "metadata": {
    "ExecuteTime": {
     "end_time": "2024-12-27T23:01:38.624823Z",
     "start_time": "2024-12-27T23:01:36.761290Z"
    },
    "collapsed": true,
    "jupyter": {
     "outputs_hidden": true
    }
   },
   "outputs": [],
   "source": [
    "### Importando biblioteca\n",
    "import pandas as pd"
   ]
  },
  {
   "cell_type": "code",
   "execution_count": 125,
   "id": "6567ecf618e60ed8",
   "metadata": {},
   "outputs": [],
   "source": [
    "### Lendo arquivo\n",
    "\n",
    "clientes_compras = pd.read_excel('data/clientes_compras.xlsx')\n",
    "relatorio_clientes = pd.read_excel('data/relatorio_clientes_transacoes.xlsx')\n",
    "\n",
    "df = clientes_compras"
   ]
  },
  {
   "cell_type": "code",
   "execution_count": null,
   "id": "3dd1ae9c",
   "metadata": {},
   "outputs": [],
   "source": [
    "print(df.info()) # Informações sobre o dataframe\n",
    "print(df.describe()) # Estatísticas descritivas\n",
    "print(df.head()) # Primeiras linhas do dataframe\n",
    "print(df.tail()) # Últimas linhas do dataframe"
   ]
  },
  {
   "cell_type": "code",
   "execution_count": null,
   "id": "dfe11bce",
   "metadata": {},
   "outputs": [],
   "source": [
    "print(\"Valores nulos:\")\n",
    "print(df.isna().sum()) # Verificar valores nulos\n",
    "\n",
    "print(\"\\n\")\n",
    "\n",
    "print(\"Valores duplicados:\")\n",
    "print(df.duplicated().sum()) # Verificar valores duplicados\n",
    "\n",
    "print(\"\\n\")\n",
    "\n",
    "print(\"Valores únicos:\")\n",
    "print(df.nunique()) # Verificar valores únicos\n",
    "\n",
    "print(\"\\n\")\n",
    "\n",
    "print(\"Valores únicos por coluna:\")\n",
    "print(df.isnull().sum())"
   ]
  },
  {
   "cell_type": "code",
   "execution_count": null,
   "id": "6f9faa98",
   "metadata": {},
   "outputs": [],
   "source": [
    "print(df[['Cliente', 'Idade']]) # Selecionando colunas"
   ]
  },
  {
   "cell_type": "code",
   "execution_count": 159,
   "id": "2abb08b3",
   "metadata": {},
   "outputs": [],
   "source": [
    "## Filtrar dado do cliente com o maior valor\n",
    "\n",
    "valor_compra_max = df['Valor_Compra'].max() # Valor máximo da coluna\n",
    "cliente_maior_compra = df[df['Valor_Compra'] == valor_compra_max]['Cliente']\n",
    "\n",
    "data = df[df['Valor_Compra'] == valor_compra_max][['Cliente', 'Valor_Compra', 'Idade']] # Dados do cliente com maior compra\n",
    "data['cliente_com_maior_compra'] = cliente_maior_compra # Adicionando coluna com o cliente com maior compra\n",
    "\n",
    "categoria = \"\"\n",
    "\n",
    "if valor_compra_max > 200: # Condição para definir a categoria do cliente\n",
    "    categoria = 'Cliente VIP'\n",
    "else:\n",
    "    categoria = 'Cliente Normal'\n",
    "\n",
    "data['Categoria'] = categoria # Adicionando coluna com a categoria do cliente\n",
    "\n",
    "data.to_excel('data/cliente_maior_compra.xlsx', index=False) # Salvando em um arquivo"
   ]
  },
  {
   "cell_type": "code",
   "execution_count": 160,
   "id": "79a1a7ac",
   "metadata": {},
   "outputs": [],
   "source": [
    "# Filtrar os dados para gêneros que começam com 'F' ou 'M' e somar as vendas\n",
    "feminino = df[df['Genero'].str.startswith('F')]\n",
    "masculino = df[df['Genero'].str.startswith('M')]\n",
    "\n",
    "# Concatenar os dados\n",
    "df_filtrado = pd.concat([feminino, masculino])\n",
    "\n",
    "# Agrupar por 'Genero' e somar as vendas\n",
    "vendas_f_and_m = df_filtrado.groupby('Genero')['Valor_Compra'].sum()\n",
    "\n",
    "# Formatar os valores\n",
    "vendas_f_and_m_formatado = vendas_f_and_m.apply(lambda x: f'R$ {x:,.2f}')\n",
    "\n",
    "# Encontrar o gênero com o maior valor de vendas\n",
    "genero_maior_valor = vendas_f_and_m.idxmax()\n",
    "\n",
    "# Adicionar o gênero com o maior valor de vendas ao dataframe\n",
    "vendas_f_and_m_formatado['genero_maior_valor'] = genero_maior_valor\n",
    "\n",
    "vendas_f_and_m_formatado.to_excel('data/genero_maior_valor.xlsx', index=True) # Salvando em um arquivo"
   ]
  }
 ],
 "metadata": {
  "kernelspec": {
   "display_name": "base",
   "language": "python",
   "name": "python3"
  },
  "language_info": {
   "codemirror_mode": {
    "name": "ipython",
    "version": 3
   },
   "file_extension": ".py",
   "mimetype": "text/x-python",
   "name": "python",
   "nbconvert_exporter": "python",
   "pygments_lexer": "ipython3",
   "version": "3.12.7"
  }
 },
 "nbformat": 4,
 "nbformat_minor": 5
}
