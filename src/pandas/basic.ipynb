{
 "cells": [
  {
   "cell_type": "code",
   "id": "initial_id",
   "metadata": {
    "collapsed": true,
    "jupyter": {
     "outputs_hidden": true
    },
    "ExecuteTime": {
     "end_time": "2025-01-01T23:00:52.332461Z",
     "start_time": "2025-01-01T23:00:50.440787Z"
    }
   },
   "source": [
    "### Importando biblioteca\n",
    "import pandas as pd\n",
    "import datetime as dt"
   ],
   "outputs": [],
   "execution_count": 1
  },
  {
   "cell_type": "code",
   "id": "6567ecf618e60ed8",
   "metadata": {
    "ExecuteTime": {
     "end_time": "2025-01-01T23:01:17.203725Z",
     "start_time": "2025-01-01T23:01:16.780026Z"
    }
   },
   "source": [
    "### Lendo arquivo\n",
    "\n",
    "clientes_compras = pd.read_excel('data/clientes_compras.xlsx')\n",
    "relatorio_clientes = pd.read_excel('data/relatorio_clientes_transacoes.xlsx')\n",
    "\n",
    "df = clientes_compras"
   ],
   "outputs": [],
   "execution_count": 2
  },
  {
   "cell_type": "code",
   "id": "3dd1ae9c",
   "metadata": {},
   "source": [
    "print(\"Visualização do dataframe:\")\n",
    "print(df) # Visualizar dataframe\n",
    "print(\"\\n\")\n",
    "\n",
    "print(\"Dimensões do dataframe:\")\n",
    "print(df.shape) # Dimensões do dataframe\n",
    "print(\"\\n\")\n",
    "\n",
    "print(\"Informações sobre o dataframe:\")\n",
    "print(df.info()) # Informações sobre o dataframe\n",
    "print(\"\\n\")\n",
    "\n",
    "print(\"Estatísticas descritivas:\")\n",
    "print(df.describe()) # Estatísticas descritivas\n",
    "print(\"\\n\")\n",
    "\n",
    "print(\"Primeiras e últimas linhas do dataframe:\")\n",
    "print(df.head()) # Primeiras linhas do dataframe\n",
    "print(\"\\n\")\n",
    "\n",
    "print(\"Últimas linhas do dataframe:\")\n",
    "print(df.tail()) # Últimas linhas do dataframe\n",
    "print(\"\\n\")\n",
    "\n",
    "print(\"Colunas e índices do dataframe:\")\n",
    "print(df.columns) # Colunas do dataframe\n",
    "print(\"\\n\")\n",
    "\n",
    "print(\"Índices do dataframe:\")\n",
    "print(df.index) # Índices do dataframe"
   ],
   "outputs": [],
   "execution_count": null
  },
  {
   "cell_type": "code",
   "execution_count": null,
   "id": "dfe11bce",
   "metadata": {},
   "outputs": [],
   "source": [
    "print(\"Valores nulos:\")\n",
    "print(df.isna().sum()) # Verificar valores nulos\n",
    "\n",
    "print(\"\\n\")\n",
    "\n",
    "print(\"Valores duplicados:\")\n",
    "print(df.duplicated().sum()) # Verificar valores duplicados\n",
    "\n",
    "print(\"\\n\")\n",
    "\n",
    "print(\"Valores únicos:\")\n",
    "print(df.nunique()) # Verificar valores únicos\n",
    "\n",
    "print(\"\\n\")\n",
    "\n",
    "print(\"Valores únicos por coluna:\")\n",
    "print(df.isnull().sum())"
   ]
  },
  {
   "cell_type": "code",
   "execution_count": null,
   "id": "6f9faa98",
   "metadata": {},
   "outputs": [],
   "source": [
    "print(df[['Cliente', 'Idade']]) # Selecionando colunas"
   ]
  },
  {
   "cell_type": "code",
   "execution_count": 159,
   "id": "2abb08b3",
   "metadata": {},
   "outputs": [],
   "source": [
    "## Filtrar dado do cliente com o maior valor\n",
    "\n",
    "valor_compra_max = df['Valor_Compra'].max() # Valor máximo da coluna\n",
    "cliente_maior_compra = df[df['Valor_Compra'] == valor_compra_max]['Cliente']\n",
    "\n",
    "data = df[df['Valor_Compra'] == valor_compra_max][['Cliente', 'Valor_Compra', 'Idade']] # Dados do cliente com maior compra\n",
    "data['cliente_com_maior_compra'] = cliente_maior_compra # Adicionando coluna com o cliente com maior compra\n",
    "\n",
    "categoria = \"\"\n",
    "\n",
    "if valor_compra_max > 200: # Condição para definir a categoria do cliente\n",
    "    categoria = 'Cliente VIP'\n",
    "else:\n",
    "    categoria = 'Cliente Normal'\n",
    "\n",
    "data['Categoria'] = categoria # Adicionando coluna com a categoria do cliente\n",
    "\n",
    "data.to_excel('data/cliente_maior_compra.xlsx', index=False) # Salvando em um arquivo"
   ]
  },
  {
   "cell_type": "code",
   "execution_count": 160,
   "id": "79a1a7ac",
   "metadata": {},
   "outputs": [],
   "source": [
    "# Filtrar os dados para gêneros que começam com 'F' ou 'M' e somar as vendas\n",
    "feminino = df[df['Genero'].str.startswith('F')]\n",
    "masculino = df[df['Genero'].str.startswith('M')]\n",
    "\n",
    "# Concatenar os dados\n",
    "df_filtrado = pd.concat([feminino, masculino])\n",
    "\n",
    "# Agrupar por 'Genero' e somar as vendas\n",
    "vendas_f_and_m = df_filtrado.groupby('Genero')['Valor_Compra'].sum()\n",
    "\n",
    "# Formatar os valores\n",
    "vendas_f_and_m_formatado = vendas_f_and_m.apply(lambda x: f'R$ {x:,.2f}')\n",
    "\n",
    "# Encontrar o gênero com o maior valor de vendas\n",
    "genero_maior_valor = vendas_f_and_m.idxmax()\n",
    "\n",
    "# Adicionar o gênero com o maior valor de vendas ao dataframe\n",
    "vendas_f_and_m_formatado['genero_maior_valor'] = genero_maior_valor\n",
    "\n",
    "vendas_f_and_m_formatado.to_excel('data/genero_maior_valor.xlsx', index=True) # Salvando em um arquivo"
   ]
  },
  {
   "metadata": {},
   "cell_type": "code",
   "source": [
    "query_column = df['Valor_Compra'] * 2\n",
    "df['bonus'] = query_column\n",
    "query_final = df[['Cliente', 'Valor_Compra', 'bonus']]\n",
    "print(query_final)"
   ],
   "id": "3bf3dbd412b9e102",
   "outputs": [],
   "execution_count": null
  },
  {
   "metadata": {},
   "cell_type": "code",
   "source": [
    "query = df.drop_duplicates(subset='Cidade', keep='first')[['Cliente', 'Cidade']]\n",
    "print(query)"
   ],
   "id": "bbb95ea2f37e7c4d",
   "outputs": [],
   "execution_count": null
  },
  {
   "metadata": {},
   "cell_type": "code",
   "source": [
    "query = df.dropna(subset='Cidade')\n",
    "print(query)"
   ],
   "id": "1bc6fbb4d121fc09",
   "outputs": [],
   "execution_count": null
  },
  {
   "metadata": {},
   "cell_type": "code",
   "source": [
    "columns_rename = df.rename({'Cidade': 'city', 'Cliente': 'name_cliente'}, axis=1)\n",
    "print(columns_rename)"
   ],
   "id": "1b4f0d47435fa6fb",
   "outputs": [],
   "execution_count": null
  },
  {
   "metadata": {},
   "cell_type": "code",
   "source": [
    "df['Valor_Compra'] = df['Valor_Compra'].astype(int)\n",
    "print(df)"
   ],
   "id": "9e54bbce41016293",
   "outputs": [],
   "execution_count": null
  },
  {
   "metadata": {
    "ExecuteTime": {
     "end_time": "2025-01-01T23:13:21.362366Z",
     "start_time": "2025-01-01T23:13:21.355713Z"
    }
   },
   "cell_type": "code",
   "source": [
    "# Filtrando valores\n",
    "filter_compras = df[df['Valor_Compra'] > 100]\n",
    "\n",
    "# Formatar os valores como moeda (exemplo com R$)\n",
    "mean_values = filter_compras.groupby('Genero')['Valor_Compra'].mean()\n",
    "\n",
    "# Formatar os valores como moeda (R$) com 2 casas decimais\n",
    "mean_values_formatted = mean_values.apply(lambda x: f\"R$ {x:,.2f}\")\n",
    "\n",
    "print(mean_values_formatted)\n"
   ],
   "id": "6c11f88f175e66b6",
   "outputs": [
    {
     "name": "stdout",
     "output_type": "stream",
     "text": [
      "Genero\n",
      "Feminino     R$ 314.47\n",
      "Masculino    R$ 287.73\n",
      "Name: Valor_Compra, dtype: object\n"
     ]
    }
   ],
   "execution_count": 22
  }
 ],
 "metadata": {
  "kernelspec": {
   "display_name": "base",
   "language": "python",
   "name": "python3"
  },
  "language_info": {
   "codemirror_mode": {
    "name": "ipython",
    "version": 3
   },
   "file_extension": ".py",
   "mimetype": "text/x-python",
   "name": "python",
   "nbconvert_exporter": "python",
   "pygments_lexer": "ipython3",
   "version": "3.12.7"
  }
 },
 "nbformat": 4,
 "nbformat_minor": 5
}
