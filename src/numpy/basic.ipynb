{
 "cells": [
  {
   "cell_type": "code",
   "id": "initial_id",
   "metadata": {
    "collapsed": true
   },
   "source": "import numpy as np",
   "outputs": [],
   "execution_count": null
  },
  {
   "metadata": {},
   "cell_type": "code",
   "source": [
    "# Criando array\n",
    "a = np.arange(15).reshape(3, 5) # array normal\n",
    "b = np.array([(1.5,2,3), (4,5,6)]) # bidimensional\n",
    "c = np.array([[1,2], [3,4]], dtype=complex) # personalizado\n",
    "\n",
    "print(a)\n",
    "print()\n",
    "print(b)\n",
    "print()\n",
    "print(c)"
   ],
   "id": "395b85b17d4fdf46",
   "outputs": [],
   "execution_count": null
  },
  {
   "metadata": {},
   "cell_type": "code",
   "source": [
    "# Numero de linhas e colunas\n",
    "print(\"Numero de linhas e colunas: \", a.shape)\n",
    "\n",
    "# Tipo do array\n",
    "print(\"Tipo do array: \", a.dtype.name)\n",
    "\n",
    "# Tamanho de bite de cada elemento\n",
    "print(\"Tamanho de bits de cada elemento: \", a.itemsize)\n",
    "\n",
    "# Tamanho do array\n",
    "print(\"Tamanho do array: \", a.size)\n",
    "\n",
    "# Somando todos os elementos do array\n",
    "print(\"Soma: \", a.sum())\n",
    "\n",
    "# Tipo do array\n",
    "print(\"Tipo do array: \", type(a))"
   ],
   "id": "91bf584a46e64649",
   "outputs": [],
   "execution_count": null
  },
  {
   "metadata": {},
   "cell_type": "code",
   "source": [
    "# Array preenchido com zeros\n",
    "print(np.zeros((2, 3)))\n",
    "\n",
    "# Array preenchido com uns\n",
    "print(np.ones((2, 2, 3)))\n",
    "\n",
    "# Array vazio (valores aleatórios na memória)\n",
    "print(np.empty((2, 2, 3)))\n",
    "print()\n",
    "\n",
    "# Array de 10 até 30 (exclusivo), com passo 5\n",
    "print(np.arange(10, 30, 5)) # (Start, Stop, Step)\n",
    "\n",
    "# Array com 5 valores igualmente espaçados entre 0 e 10\n",
    "array = np.linspace(0, 10, num=5)\n",
    "print(array)"
   ],
   "id": "d0778f5c90e14b18",
   "outputs": [],
   "execution_count": null
  }
 ],
 "metadata": {
  "kernelspec": {
   "display_name": "Python 3",
   "language": "python",
   "name": "python3"
  },
  "language_info": {
   "codemirror_mode": {
    "name": "ipython",
    "version": 2
   },
   "file_extension": ".py",
   "mimetype": "text/x-python",
   "name": "python",
   "nbconvert_exporter": "python",
   "pygments_lexer": "ipython2",
   "version": "2.7.6"
  }
 },
 "nbformat": 4,
 "nbformat_minor": 5
}
