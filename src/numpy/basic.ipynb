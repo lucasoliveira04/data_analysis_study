{
 "cells": [
  {
   "cell_type": "code",
   "id": "initial_id",
   "metadata": {
    "collapsed": true
   },
   "source": "import numpy as np",
   "outputs": [],
   "execution_count": null
  },
  {
   "metadata": {},
   "cell_type": "code",
   "source": [
    "# Criando array\n",
    "a = np.arange(15).reshape(3, 5) # array normal\n",
    "b = np.array([(1.5,2,3), (4,5,6)]) # bidimensional\n",
    "c = np.array([[1,2], [3,4]], dtype=complex) # personalizado\n",
    "\n",
    "print(a)\n",
    "print()\n",
    "print(b)\n",
    "print()\n",
    "print(c)"
   ],
   "id": "395b85b17d4fdf46",
   "outputs": [],
   "execution_count": null
  },
  {
   "metadata": {},
   "cell_type": "code",
   "source": [
    "# Numero de linhas e colunas\n",
    "print(\"Numero de linhas e colunas: \", a.shape)\n",
    "\n",
    "# Tipo do array\n",
    "print(\"Tipo do array: \", a.dtype.name)\n",
    "\n",
    "# Tamanho de bite de cada elemento\n",
    "print(\"Tamanho de bits de cada elemento: \", a.itemsize)\n",
    "\n",
    "# Tamanho do array\n",
    "print(\"Tamanho do array: \", a.size)\n",
    "\n",
    "# Somando todos os elementos do array\n",
    "print(\"Soma: \", a.sum())\n",
    "\n",
    "# Tipo do array\n",
    "print(\"Tipo do array: \", type(a))"
   ],
   "id": "91bf584a46e64649",
   "outputs": [],
   "execution_count": null
  },
  {
   "metadata": {},
   "cell_type": "code",
   "source": [
    "# Array preenchido com zeros\n",
    "print(np.zeros((2, 3)))\n",
    "\n",
    "# Array preenchido com uns\n",
    "print(np.ones((2, 2, 3)))\n",
    "\n",
    "# Array vazio (valores aleatórios na memória)\n",
    "print(np.empty((2, 2, 3)))\n",
    "print()\n",
    "\n",
    "# Array de 10 até 30 (exclusivo), com passo 5\n",
    "print(np.arange(10, 30, 5)) # (Start, Stop, Step)\n",
    "\n",
    "# Array com 5 valores igualmente espaçados entre 0 e 10\n",
    "array = np.linspace(0, 10, num=5)\n",
    "print(array)"
   ],
   "id": "d0778f5c90e14b18",
   "outputs": [],
   "execution_count": null
  },
  {
   "metadata": {},
   "cell_type": "code",
   "source": [
    "# Criando DataFrame apartir de um array com valores aleatorios\n",
    "import pandas as pd\n",
    "\n",
    "\n",
    "# Array de 5 inteiros aleatórios entre 0 e 10\n",
    "array_random = np.random.randint(0, 10, 5)\n",
    "print(array_random)\n",
    "\n",
    "df = pd.DataFrame(array_random, columns=['Number'])\n",
    "df.index.name = 'id'\n",
    "print(df)"
   ],
   "id": "a86bad3169b7b29b",
   "outputs": [],
   "execution_count": null
  },
  {
   "metadata": {
    "ExecuteTime": {
     "end_time": "2025-01-08T01:17:02.898502Z",
     "start_time": "2025-01-08T01:17:02.889517Z"
    }
   },
   "cell_type": "code",
   "source": [
    "# Criando DataFrame apartir de um dicionario com valores aleatorios\n",
    "\n",
    "dic = {\n",
    "    'coluna1': np.random.randint(0, 100, 20),\n",
    "    'coluna2': np.random.randint(0, 100, 20),\n",
    "    'coluna3': np.random.randint(0, 100, 20),\n",
    "    'coluna4': np.random.randint(0, 100, 20),\n",
    "    'coluna5': np.random.randint(0, 100, 20),\n",
    "}\n",
    "\n",
    "df = pd.DataFrame(dic)\n",
    "df = df.astype(int)\n",
    "df.index.name = 'index'\n",
    "df['Sum'] = df.sum(axis=1)\n",
    "df['Mean'] = df.mean(axis=1)\n",
    "\n",
    "print(df)\n"
   ],
   "id": "d690cd2488cbcc10",
   "outputs": [
    {
     "name": "stdout",
     "output_type": "stream",
     "text": [
      "       coluna1  coluna2  coluna3  coluna4  coluna5  Sum        Mean\n",
      "index                                                              \n",
      "0           45       24       50       17       12  148   49.333333\n",
      "1           11       94       54        1       12  172   57.333333\n",
      "2           28       29       90       14       59  220   73.333333\n",
      "3           74       63       45       84       30  296   98.666667\n",
      "4           46       91        8       30       83  258   86.000000\n",
      "5           93       40       63       88       16  300  100.000000\n",
      "6           64       16       34       96       44  254   84.666667\n",
      "7            1       20       89       86       87  283   94.333333\n",
      "8           73       46       39       73       10  241   80.333333\n",
      "9           19       86       76       51       37  269   89.666667\n",
      "10          47       53       68       54       69  291   97.000000\n",
      "11          10       96        3       55       90  254   84.666667\n",
      "12          49       37       90       62       33  271   90.333333\n",
      "13          49       93        2        4       14  162   54.000000\n",
      "14          86       67       73        4       20  250   83.333333\n",
      "15           1       30       93       13       68  205   68.333333\n",
      "16          71       43       30       43       65  252   84.000000\n",
      "17          87       65       10       67        8  237   79.000000\n",
      "18          63       75       72        5       65  280   93.333333\n",
      "19          88       27       32       27       94  268   89.333333\n"
     ]
    }
   ],
   "execution_count": 37
  }
 ],
 "metadata": {
  "kernelspec": {
   "display_name": "Python 3",
   "language": "python",
   "name": "python3"
  },
  "language_info": {
   "codemirror_mode": {
    "name": "ipython",
    "version": 2
   },
   "file_extension": ".py",
   "mimetype": "text/x-python",
   "name": "python",
   "nbconvert_exporter": "python",
   "pygments_lexer": "ipython2",
   "version": "2.7.6"
  }
 },
 "nbformat": 4,
 "nbformat_minor": 5
}
