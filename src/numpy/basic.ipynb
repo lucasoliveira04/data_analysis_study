{
 "cells": [
  {
   "cell_type": "code",
   "id": "initial_id",
   "metadata": {
    "collapsed": true,
    "ExecuteTime": {
     "end_time": "2025-01-08T01:04:19.129974Z",
     "start_time": "2025-01-08T01:04:19.000757Z"
    }
   },
   "source": "import numpy as np",
   "outputs": [],
   "execution_count": 2
  },
  {
   "metadata": {},
   "cell_type": "code",
   "source": [
    "# Criando array\n",
    "a = np.arange(15).reshape(3, 5) # array normal\n",
    "b = np.array([(1.5,2,3), (4,5,6)]) # bidimensional\n",
    "c = np.array([[1,2], [3,4]], dtype=complex) # personalizado\n",
    "\n",
    "print(a)\n",
    "print()\n",
    "print(b)\n",
    "print()\n",
    "print(c)"
   ],
   "id": "395b85b17d4fdf46",
   "outputs": [],
   "execution_count": null
  },
  {
   "metadata": {},
   "cell_type": "code",
   "source": [
    "# Numero de linhas e colunas\n",
    "print(\"Numero de linhas e colunas: \", a.shape)\n",
    "\n",
    "# Tipo do array\n",
    "print(\"Tipo do array: \", a.dtype.name)\n",
    "\n",
    "# Tamanho de bite de cada elemento\n",
    "print(\"Tamanho de bits de cada elemento: \", a.itemsize)\n",
    "\n",
    "# Tamanho do array\n",
    "print(\"Tamanho do array: \", a.size)\n",
    "\n",
    "# Somando todos os elementos do array\n",
    "print(\"Soma: \", a.sum())\n",
    "\n",
    "# Tipo do array\n",
    "print(\"Tipo do array: \", type(a))"
   ],
   "id": "91bf584a46e64649",
   "outputs": [],
   "execution_count": null
  },
  {
   "metadata": {},
   "cell_type": "code",
   "source": [
    "# Array preenchido com zeros\n",
    "print(np.zeros((2, 3)))\n",
    "\n",
    "# Array preenchido com uns\n",
    "print(np.ones((2, 2, 3)))\n",
    "\n",
    "# Array vazio (valores aleatórios na memória)\n",
    "print(np.empty((2, 2, 3)))\n",
    "print()\n",
    "\n",
    "# Array de 10 até 30 (exclusivo), com passo 5\n",
    "print(np.arange(10, 30, 5)) # (Start, Stop, Step)\n",
    "\n",
    "# Array com 5 valores igualmente espaçados entre 0 e 10\n",
    "array = np.linspace(0, 10, num=5)\n",
    "print(array)"
   ],
   "id": "d0778f5c90e14b18",
   "outputs": [],
   "execution_count": null
  },
  {
   "metadata": {},
   "cell_type": "code",
   "source": [
    "# Criando DataFrame apartir de um array com valores aleatorios\n",
    "import pandas as pd\n",
    "\n",
    "\n",
    "# Array de 5 inteiros aleatórios entre 0 e 10\n",
    "array_random = np.random.randint(0, 10, 5)\n",
    "print(array_random)\n",
    "\n",
    "df = pd.DataFrame(array_random, columns=['Number'])\n",
    "df.index.name = 'id'\n",
    "print(df)"
   ],
   "id": "a86bad3169b7b29b",
   "outputs": [],
   "execution_count": null
  },
  {
   "metadata": {
    "ExecuteTime": {
     "end_time": "2025-01-08T01:13:04.224111Z",
     "start_time": "2025-01-08T01:13:04.217379Z"
    }
   },
   "cell_type": "code",
   "source": [
    "# Criando DataFrame apartir de um dicionario com valores aleatorios\n",
    "\n",
    "dic = {\n",
    "    'coluna1': np.random.randint(0, 100, 20),\n",
    "    'coluna2': np.random.randint(0, 100, 20),\n",
    "    'coluna3': np.random.randint(0, 100, 20),\n",
    "    'coluna4': np.random.randint(0, 100, 20),\n",
    "    'coluna5': np.random.randint(0, 100, 20),\n",
    "}\n",
    "\n",
    "df = pd.DataFrame(dic)\n",
    "df = df.astype(int)\n",
    "df.index.name = 'index'\n",
    "\n",
    "print(df)\n"
   ],
   "id": "d690cd2488cbcc10",
   "outputs": [
    {
     "name": "stdout",
     "output_type": "stream",
     "text": [
      "       coluna1  coluna2  coluna3  coluna4  coluna5\n",
      "index                                             \n",
      "0           10       64       88       74       11\n",
      "1           66       69       68       39       99\n",
      "2           98       75       96       47       99\n",
      "3           63       25       95       19       29\n",
      "4           35       53       72       55       79\n",
      "5           17        2       11       42       77\n",
      "6           50       61       53       72       97\n",
      "7           74        5       35       90       40\n",
      "8           79       61       54       79       40\n",
      "9           69       60       83       74       27\n",
      "10          87       48        0       91       65\n",
      "11          86       89       49       94       81\n",
      "12          90       73       77        6       25\n",
      "13          23        3       94       44       96\n",
      "14          71       92       15       94       54\n",
      "15          59       52       29        0        8\n",
      "16          99       64       53       39       24\n",
      "17          93       28       79       74       62\n",
      "18          83       30       96       44        6\n",
      "19          79        8        2        0       80\n"
     ]
    }
   ],
   "execution_count": 31
  }
 ],
 "metadata": {
  "kernelspec": {
   "display_name": "Python 3",
   "language": "python",
   "name": "python3"
  },
  "language_info": {
   "codemirror_mode": {
    "name": "ipython",
    "version": 2
   },
   "file_extension": ".py",
   "mimetype": "text/x-python",
   "name": "python",
   "nbconvert_exporter": "python",
   "pygments_lexer": "ipython2",
   "version": "2.7.6"
  }
 },
 "nbformat": 4,
 "nbformat_minor": 5
}
